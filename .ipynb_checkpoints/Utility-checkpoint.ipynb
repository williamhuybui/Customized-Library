{
 "cells": [
  {
   "cell_type": "markdown",
   "metadata": {},
   "source": [
    "# Iterator Object"
   ]
  },
  {
   "cell_type": "code",
   "execution_count": null,
   "metadata": {},
   "outputs": [],
   "source": [
    "class Backward():\n",
    "    def __init__(self,array):\n",
    "        self.array=array\n"
   ]
  },
  {
   "cell_type": "code",
   "execution_count": 46,
   "metadata": {},
   "outputs": [],
   "source": [
    "class Backwards:\n",
    "    def __init__(self, val):\n",
    "        self.val = val\n",
    "        self.pos = len(val)\n",
    " \n",
    "    def __iter__(self):\n",
    "        return self\n",
    " \n",
    "    def __next__(self):\n",
    "        # We're done\n",
    "        if self.pos <= 0:\n",
    "            raise StopIteration\n",
    " \n",
    "        self.pos = self.pos - 1\n",
    "        return self.val[self.pos]"
   ]
  },
  {
   "cell_type": "code",
   "execution_count": 47,
   "metadata": {},
   "outputs": [
    {
     "name": "stdout",
     "output_type": "stream",
     "text": [
      "3\n",
      "2\n",
      "1\n"
     ]
    }
   ],
   "source": [
    "for x in Backwards([1,2,3]):\n",
    "    print(x)\n"
   ]
  },
  {
   "cell_type": "code",
   "execution_count": 126,
   "metadata": {},
   "outputs": [
    {
     "data": {
      "text/plain": [
       "2"
      ]
     },
     "execution_count": 126,
     "metadata": {},
     "output_type": "execute_result"
    }
   ],
   "source": [
    "1+1"
   ]
  },
  {
   "cell_type": "markdown",
   "metadata": {},
   "source": [
    "# Complex operation (overloading)\n",
    "\n",
    "Overloading, in the context of programming, refers to the ability of a function or an operator to behave in different ways depending on the parameters that are passed to the function, or the operands that the operator acts on. \n",
    "\n",
    "Example: `__sub__`, `__len__`, ..."
   ]
  },
  {
   "cell_type": "code",
   "execution_count": 310,
   "metadata": {},
   "outputs": [
    {
     "name": "stdout",
     "output_type": "stream",
     "text": [
      "2 1\n",
      "5 6\n",
      "7.00+7.00i\n",
      "-3.00-5.00i\n",
      "4.00+17.00i\n",
      "0.26-0.11i\n",
      "2.24+0.00i\n",
      "7.81+0.00i\n"
     ]
    }
   ],
   "source": [
    "import math\n",
    "class Complex:\n",
    "    def __init__(self, a, b):\n",
    "        self.a = a\n",
    "        self.b = b\n",
    "    def __add__(self, other):\n",
    "        real=self.a+other.a\n",
    "        imag=self.b+other.b\n",
    "        return Complex(real, imag)\n",
    "    \n",
    "    def __sub__(self, other):\n",
    "        real=self.a-other.a\n",
    "        imag=self.b-other.b\n",
    "        return Complex(real, imag)\n",
    "\n",
    "    def __mul__(self, other):\n",
    "        real=self.a*other.a-self.b*other.b\n",
    "        imag=self.a*other.b+self.b*other.a\n",
    "        return Complex(real,imag)\n",
    "    \n",
    "    def __truediv__(self, other):\n",
    "        if other!=0:\n",
    "            denom=other.a**2+other.b**2\n",
    "            real=(1/denom)*(self.a*other.a+other.b*self.b)\n",
    "            imag=(1/denom)*(self.b*other.a-self.a*other.b)\n",
    "            return Complex(real,imag)\n",
    "        else:\n",
    "            print(\"Division by 0\")\n",
    "    def mod(self):\n",
    "        return Complex(math.sqrt(self.a**2+self.b**2),0)\n",
    "    def __str__(self, precision=2):\n",
    "        if self.b == 0:\n",
    "            result = \"%.2f+0.00i\" % (self.a)\n",
    "        elif self.a == 0:\n",
    "            if self.b >= 0:\n",
    "                result = \"0.00+%.2fi\" % (self.b)\n",
    "            else:\n",
    "                result = \"0.00-%.2fi\" % (abs(self.b))\n",
    "        elif self.b > 0:\n",
    "            result = \"%.2f+%.2fi\" % (self.a, self.b)\n",
    "        else:\n",
    "            result = \"%.2f-%.2fi\" % (self.a, abs(self.b))\n",
    "        return result\n",
    "        \n",
    "    \n",
    "A = Complex(*map(float, input().strip().split()))\n",
    "B = Complex(*map(float, input().strip().split()))\n",
    "\n",
    "print(A+B)\n",
    "print(A-B)\n",
    "print(A*B)\n",
    "print(A/B)\n",
    "print(A.mod())\n",
    "print(B.mod())"
   ]
  },
  {
   "cell_type": "markdown",
   "metadata": {},
   "source": [
    "# Vector operation"
   ]
  },
  {
   "cell_type": "code",
   "execution_count": 326,
   "metadata": {},
   "outputs": [],
   "source": [
    "import math\n",
    "\n",
    "class Points(object):\n",
    "    def __init__(self, x, y, z):\n",
    "        self.x=x\n",
    "        self.y=y\n",
    "        self.z=z\n",
    "    def __add__(self, other):\n",
    "        return Points(self.x+other.x, self.y+other.y, self.z+other.z)\n",
    "    def __sub__(self, other):\n",
    "        X=self.x-other.x\n",
    "        Y=self.y-other.y\n",
    "        Z=self.z-other.z\n",
    "        return Points(X,Y,Z)\n",
    "    def dot(self, other):\n",
    "        return self.x*other.x+self.y*other.y+self.z*other.z\n",
    "    def cross(self, other):\n",
    "        X= self.y*other.z-self.z*other.y\n",
    "        Y= self.x*other.z-self.z*other.x\n",
    "        Z= self.x*other.y-self.y*other.x\n",
    "        return Points(X,Y,Z)\n",
    "    def __str__(self):\n",
    "        return '({},{},{})'.format(self.x,self.y,self.z)\n",
    "    def absolute(self):\n",
    "        return pow((self.x ** 2 + self.y ** 2 + self.z ** 2), 0.5)"
   ]
  },
  {
   "cell_type": "code",
   "execution_count": 327,
   "metadata": {},
   "outputs": [],
   "source": [
    "a=Points(1,2,3)\n",
    "b=Points(3,3,3)"
   ]
  },
  {
   "cell_type": "code",
   "execution_count": 328,
   "metadata": {},
   "outputs": [
    {
     "name": "stdout",
     "output_type": "stream",
     "text": [
      "(-2,-1,0)\n",
      "(4,5,6)\n",
      "(-3,-6,-3)\n",
      "18\n"
     ]
    }
   ],
   "source": [
    "print(a-b)\n",
    "print(a+b)\n",
    "print(a.cross(b))\n",
    "print(a.dot(b))"
   ]
  },
  {
   "cell_type": "markdown",
   "metadata": {},
   "source": [
    "# Iteration (zip and iter)"
   ]
  },
  {
   "cell_type": "markdown",
   "metadata": {},
   "source": [
    "function(*[arg1,arg2,arg3]) is the same as function(arg1,arg2,arg3)\n",
    "\n",
    "When passing iterators, zip internally invokes the next on the subsequent passed iterators before combining them\n",
    "\n",
    "Ex: \n",
    "```\n",
    "s='abcdefghi'\n",
    "i=iter(s)\n",
    "zip(i, i, i)\n",
    ">>> [('a', 'b', 'c'), ('d', 'e', 'f'), ('g', 'h', 'i')]\n",
    "```"
   ]
  },
  {
   "cell_type": "code",
   "execution_count": 557,
   "metadata": {},
   "outputs": [],
   "source": [
    "s='abcdefgh'"
   ]
  },
  {
   "cell_type": "code",
   "execution_count": 559,
   "metadata": {},
   "outputs": [
    {
     "data": {
      "text/plain": [
       "[('a', 'b', 'c', 'd'), ('e', 'f', 'g', 'h')]"
      ]
     },
     "execution_count": 559,
     "metadata": {},
     "output_type": "execute_result"
    }
   ],
   "source": [
    "i=iter(s)\n",
    "list(zip(i,i,i,i))"
   ]
  },
  {
   "cell_type": "code",
   "execution_count": null,
   "metadata": {},
   "outputs": [],
   "source": []
  }
 ],
 "metadata": {
  "kernelspec": {
   "display_name": "Python 3",
   "language": "python",
   "name": "python3"
  },
  "language_info": {
   "codemirror_mode": {
    "name": "ipython",
    "version": 3
   },
   "file_extension": ".py",
   "mimetype": "text/x-python",
   "name": "python",
   "nbconvert_exporter": "python",
   "pygments_lexer": "ipython3",
   "version": "3.7.3"
  }
 },
 "nbformat": 4,
 "nbformat_minor": 2
}
